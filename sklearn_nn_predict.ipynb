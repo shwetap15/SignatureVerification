{
 "cells": [
  {
   "cell_type": "code",
   "execution_count": 1,
   "metadata": {},
   "outputs": [
    {
     "name": "stdout",
     "output_type": "stream",
     "text": [
      "Populating the interactive namespace from numpy and matplotlib\n"
     ]
    }
   ],
   "source": [
    "import matplotlib.pyplot as plt\n",
    "import numpy as np\n",
    "import cv2\n",
    "import pandas as pd\n",
    "%pylab inline\n",
    "from skimage.measure import compare_ssim\n",
    "from skimage.measure import structural_similarity as ssim\n",
    "from sklearn.neural_network import MLPClassifier\n",
    "\n",
    "#import imagehash\n",
    "from PIL import Image\n",
    "import pickle"
   ]
  },
  {
   "cell_type": "code",
   "execution_count": 3,
   "metadata": {},
   "outputs": [],
   "source": [
    "def mse(imageA, imageB):\n",
    "    # the 'Mean Squared Error' between the two images is the\n",
    "    # sum of the squared difference between the two images;\n",
    "    # NOTE: the two images must have the same dimension\n",
    "    err = np.sum((imageA.astype(\"float\") - imageB.astype(\"float\")) ** 2)\n",
    "    err /= float(imageA.shape[0] * imageA.shape[1])\n",
    "\n",
    "    # return the MSE, the lower the error, the more \"similar\"\n",
    "    # the two images are\n",
    "    return err"
   ]
  },
  {
   "cell_type": "code",
   "execution_count": 10,
   "metadata": {},
   "outputs": [
    {
     "name": "stdout",
     "output_type": "stream",
     "text": [
      "[1]\n"
     ]
    }
   ],
   "source": [
    "filename = 'trained_model.sav'\n",
    "loaded_model = pickle.load(open(filename, 'rb'))\n",
    "\n",
    "test_img1 = \"data/test/066/08_066.png\" \n",
    "#test_img2 = \"data/test/066/03_066.png\" \n",
    "test_img2 = \"data/test/066_forg/03_0101066.PNG\"\n",
    "\n",
    "\n",
    "test_img1 = cv2.imread(test_img1)\n",
    "test_img1 = cv2.resize(test_img1,(28,28))\n",
    "test_img1 = cv2.cvtColor(test_img1,cv2.COLOR_BGR2GRAY)\n",
    "\n",
    "test_img2 = cv2.imread(test_img2)\n",
    "test_img2 = cv2.resize(test_img2,(28,28))\n",
    "test_img2 = cv2.cvtColor(test_img2,cv2.COLOR_BGR2GRAY)\n",
    "\n",
    "(score, diff) = compare_ssim(test_img1, test_img2, full=True)\n",
    "rmse = mse(test_img1 , test_img2)\n",
    "\n",
    "im1 = test_img1.flatten().tolist()\n",
    "im2 = test_img2.flatten().tolist()\n",
    "\n",
    "\n",
    "test_x = []\n",
    "test_x.append([score]+[rmse]+im1+im2)\n",
    "predicted_res = loaded_model.predict(test_x)\n",
    "print(predicted_res)"
   ]
  },
  {
   "cell_type": "code",
   "execution_count": null,
   "metadata": {},
   "outputs": [],
   "source": []
  }
 ],
 "metadata": {
  "kernelspec": {
   "display_name": "Python 3",
   "language": "python",
   "name": "python3"
  },
  "language_info": {
   "codemirror_mode": {
    "name": "ipython",
    "version": 3
   },
   "file_extension": ".py",
   "mimetype": "text/x-python",
   "name": "python",
   "nbconvert_exporter": "python",
   "pygments_lexer": "ipython3",
   "version": "3.6.5"
  }
 },
 "nbformat": 4,
 "nbformat_minor": 2
}
