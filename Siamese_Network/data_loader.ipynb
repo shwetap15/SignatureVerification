{
 "cells": [
  {
   "cell_type": "code",
   "execution_count": 11,
   "metadata": {},
   "outputs": [],
   "source": [
    "import numpy as np\n",
    "import pandas as pd\n",
    "import cv2\n",
    "import matplotlib.pyplot as plt\n",
    "\n",
    "%run data_preprocess.ipynb\n",
    "%run encoder.ipynb"
   ]
  },
  {
   "cell_type": "code",
   "execution_count": 12,
   "metadata": {},
   "outputs": [],
   "source": [
    "data = pd.read_csv(\"data/train_data.csv\")\n",
    "data = data.iloc[np.random.permutation(len(data))]\n",
    "#data = data[:200]\n",
    "X = data.iloc[:,:-1].values\n",
    "\n",
    "T = data.iloc[:,-1].values\n",
    "X[:,0] = 'data/train/'+X[:,0]\n",
    "X[:,1] = 'data/train/'+X[:,1]\n",
    "\n",
    "# test data\n",
    "test_data = pd.read_csv(\"data/test_data.csv\")\n",
    "#test_data = pd.read_csv(\"data/validation_data.csv\")\n",
    "test_data = test_data.iloc[np.random.permutation(len(test_data))]\n",
    "#test_data = test_data[:20]\n",
    "test_X = test_data.iloc[:,:-1].values\n",
    "test_T = test_data.iloc[:,-1].values\n",
    "\n",
    "test_X[:,0] = 'data/test/'+test_X[:,0]\n",
    "test_X[:,1] = 'data/test/'+test_X[:,1]\n"
   ]
  },
  {
   "cell_type": "code",
   "execution_count": null,
   "metadata": {},
   "outputs": [],
   "source": []
  },
  {
   "cell_type": "code",
   "execution_count": null,
   "metadata": {},
   "outputs": [],
   "source": []
  },
  {
   "cell_type": "code",
   "execution_count": null,
   "metadata": {},
   "outputs": [],
   "source": []
  }
 ],
 "metadata": {
  "kernelspec": {
   "display_name": "Python 3",
   "language": "python",
   "name": "python3"
  },
  "language_info": {
   "codemirror_mode": {
    "name": "ipython",
    "version": 3
   },
   "file_extension": ".py",
   "mimetype": "text/x-python",
   "name": "python",
   "nbconvert_exporter": "python",
   "pygments_lexer": "ipython3",
   "version": "3.6.5"
  }
 },
 "nbformat": 4,
 "nbformat_minor": 2
}
