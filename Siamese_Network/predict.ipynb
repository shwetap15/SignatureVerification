{
 "cells": [
  {
   "cell_type": "code",
   "execution_count": 61,
   "metadata": {},
   "outputs": [],
   "source": [
    "import numpy as np\n",
    "import pandas as pd\n",
    "import cv2\n",
    "import matplotlib.pyplot as plt\n",
    "import pickle\n",
    "\n",
    "import tensorflow as tf\n",
    "from tensorflow import keras\n",
    "from keras.layers import Input, Conv2D, MaxPooling2D, UpSampling2D, Lambda, merge, Dense, Flatten\n",
    "from keras.regularizers import l2\n",
    "from keras import backend as K\n",
    "from keras.models import Model, Sequential, model_from_json, load_model\n",
    "from keras.datasets import mnist\n",
    "from keras.callbacks import TensorBoard\n",
    "from keras import backend as K\n",
    "import torch\n",
    "\n",
    "%run data_preprocess.ipynb\n",
    "%run encoder.ipynb"
   ]
  },
  {
   "cell_type": "code",
   "execution_count": 62,
   "metadata": {},
   "outputs": [],
   "source": [
    "def prepare_pred_data(im1,im2):\n",
    "    prepared_data = []\n",
    "    print(im1)\n",
    "    print(im2)\n",
    "    #for i in range(X.shape[0]):\n",
    "    input_im1 = process_image(im1)\n",
    "    input_im2 = process_image(im2)\n",
    "\n",
    "    encoded_img1 = encoder.predict(input_im1)\n",
    "    encoded_img2 = encoder.predict(input_im2)\n",
    "\n",
    "    encoded_img1 = encoded_img1.flatten()\n",
    "    encoded_img2 = encoded_img2.flatten()\n",
    "\n",
    "    '''mean1 = np.mean(encoded_img1 - encoded_img2)\n",
    "    mean2 = np.mean(encoded_img1 + encoded_img2)\n",
    "    euclidean_distance = np.sum((encoded_img1-encoded_img2)**2)\n",
    "    im_sum = np.sum((encoded_img1-encoded_img2))\n",
    "\n",
    "    data = [mean1,mean2,euclidean_distance,im_sum]\n",
    "    prepared_data.append(data)'''\n",
    "    \n",
    "    result_im = ((encoded_img1-encoded_img2)**2)\n",
    "    prepared_data.append(result_im)\n",
    "    \n",
    "    return prepared_data"
   ]
  },
  {
   "cell_type": "code",
   "execution_count": 63,
   "metadata": {},
   "outputs": [],
   "source": [
    "def predict_result(im1, im2):\n",
    "    \n",
    "    test_prepared_data = prepare_pred_data(im1,im2)\n",
    "    test_prepared_data = np.array(test_prepared_data)\n",
    "    test_prepared_data = test_prepared_data/np.mean(test_prepared_data)\n",
    "    loaded_model = tf.keras.models.load_model('checkpoint/trained_model.h5')\n",
    "    class_names = ['Genuine','Forged']\n",
    "    test_predictions = loaded_model.predict(test_prepared_data)\n",
    "    print(test_predictions)\n",
    "    result = class_names[np.argmax(test_predictions[0] )]\n",
    "    print(result )\n",
    "    return result"
   ]
  },
  {
   "cell_type": "code",
   "execution_count": 65,
   "metadata": {},
   "outputs": [
    {
     "name": "stdout",
     "output_type": "stream",
     "text": [
      "data/test/066_forg/04_0212066.PNG\n",
      "data/test/066/11_066.png\n",
      "WARNING:tensorflow:Sequential models without an `input_shape` passed to the first layer cannot reload their optimizer state. As a result, your model isstarting with a freshly initialized optimizer.\n",
      "[[0. 1.]]\n",
      "Forged\n"
     ]
    },
    {
     "data": {
      "text/plain": [
       "'Forged'"
      ]
     },
     "execution_count": 65,
     "metadata": {},
     "output_type": "execute_result"
    }
   ],
   "source": [
    "predict_result( 'data/test/066_forg/04_0212066.PNG', 'data/test/066/11_066.png')\n",
    "#predict_result( 'data/test/066/03_066.png', 'data/test/066/11_066.png')\n",
    "\n",
    "#predict_result( 'data/test/066/03_066.png', 'data/test/066/11_066.png')"
   ]
  },
  {
   "cell_type": "code",
   "execution_count": null,
   "metadata": {},
   "outputs": [],
   "source": []
  }
 ],
 "metadata": {
  "kernelspec": {
   "display_name": "Python 3",
   "language": "python",
   "name": "python3"
  },
  "language_info": {
   "codemirror_mode": {
    "name": "ipython",
    "version": 3
   },
   "file_extension": ".py",
   "mimetype": "text/x-python",
   "name": "python",
   "nbconvert_exporter": "python",
   "pygments_lexer": "ipython3",
   "version": "3.6.5"
  }
 },
 "nbformat": 4,
 "nbformat_minor": 2
}
