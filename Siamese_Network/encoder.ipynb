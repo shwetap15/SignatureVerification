{
 "cells": [
  {
   "cell_type": "code",
   "execution_count": 8,
   "metadata": {},
   "outputs": [],
   "source": [
    "import numpy as np\n",
    "import pandas as pd\n",
    "import cv2\n",
    "import matplotlib.pyplot as plt\n",
    "\n",
    "import tensorflow as tf\n",
    "from tensorflow import keras\n",
    "from keras.layers import Input, Conv2D, MaxPooling2D, UpSampling2D, Lambda, merge, Dense, Flatten\n",
    "from keras.regularizers import l2\n",
    "from keras import backend as K\n",
    "from keras.models import Model, Sequential, model_from_json, load_model\n",
    "from keras.datasets import mnist\n",
    "from keras.callbacks import TensorBoard\n",
    "from keras import backend as K\n",
    "import torch\n",
    "\n",
    "%run data_preprocess.ipynb"
   ]
  },
  {
   "cell_type": "code",
   "execution_count": 9,
   "metadata": {},
   "outputs": [],
   "source": [
    "input_img = Input(shape=(28, 28, 1))  # adapt this if using `channels_first` image data format\n",
    "\n",
    "x = Conv2D(16, (3, 3), activation='relu', padding='same')(input_img)\n",
    "x = MaxPooling2D((2, 2), padding='same')(x)\n",
    "x = Conv2D(8, (3, 3), activation='relu', padding='same')(x)\n",
    "x = MaxPooling2D((2, 2), padding='same')(x)\n",
    "x = Conv2D(8, (3, 3), activation='relu', padding='same')(x)\n",
    "#encoded = MaxPooling2D((2, 2), padding='same')(x)\n",
    "x = MaxPooling2D((2, 2), padding='same')(x)\n",
    "#x = Flatten()(x)\n",
    "encoded = Dense(256, activation='relu')(x)\n",
    "# at this point the representation is (4, 4, 8) i.e. 128-dimensional\n",
    "\n",
    "x = Conv2D(8, (3, 3), activation='relu', padding='same')(encoded)\n",
    "x = UpSampling2D((2, 2))(x)\n",
    "x = Conv2D(8, (3, 3), activation='relu', padding='same')(x)\n",
    "x = UpSampling2D((2, 2))(x)\n",
    "x = Conv2D(16, (3, 3), activation='relu')(x)\n",
    "x = UpSampling2D((2, 2))(x)\n",
    "decoded = Conv2D(1, (3, 3), activation='sigmoid', padding='same')(x)\n",
    "\n",
    "autoencoder = Model(input_img, decoded)\n",
    "autoencoder.compile(optimizer='adadelta', loss='binary_crossentropy')\n",
    "\n",
    "encoder = Model(input_img, encoded)"
   ]
  },
  {
   "cell_type": "code",
   "execution_count": 10,
   "metadata": {},
   "outputs": [],
   "source": [
    "\n",
    "\n",
    "def prepare_data(X):\n",
    "    prepared_data = []\n",
    "\n",
    "    for i in range(X.shape[0]):\n",
    "        input_im1 = process_image(X[i,0])\n",
    "        input_im2 = process_image(X[i,1])\n",
    "        \n",
    "        encoded_img1 = encoder.predict(input_im1)\n",
    "        encoded_img2 = encoder.predict(input_im2)\n",
    "\n",
    "        encoded_img1 = encoded_img1.flatten()\n",
    "        encoded_img2 = encoded_img2.flatten()\n",
    "        \n",
    "        '''mean1 = np.mean(encoded_img1 - encoded_img2)\n",
    "        mean2 = np.mean(encoded_img1 + encoded_img2)\n",
    "        euclidean_distance = np.sum((encoded_img1-encoded_img2)**2)\n",
    "        im_sum = np.sum((encoded_img1-encoded_img2))'''\n",
    "\n",
    "        #data = [mean1,mean2,euclidean_distance,im_sum]\n",
    "        result_im = ((encoded_img1-encoded_img2)**2)\n",
    "        prepared_data.append(result_im)\n",
    "        #prepared_data.append(data)\n",
    "    \n",
    "    return prepared_data"
   ]
  },
  {
   "cell_type": "code",
   "execution_count": null,
   "metadata": {},
   "outputs": [],
   "source": []
  }
 ],
 "metadata": {
  "kernelspec": {
   "display_name": "Python 3",
   "language": "python",
   "name": "python3"
  },
  "language_info": {
   "codemirror_mode": {
    "name": "ipython",
    "version": 3
   },
   "file_extension": ".py",
   "mimetype": "text/x-python",
   "name": "python",
   "nbconvert_exporter": "python",
   "pygments_lexer": "ipython3",
   "version": "3.6.5"
  }
 },
 "nbformat": 4,
 "nbformat_minor": 2
}
